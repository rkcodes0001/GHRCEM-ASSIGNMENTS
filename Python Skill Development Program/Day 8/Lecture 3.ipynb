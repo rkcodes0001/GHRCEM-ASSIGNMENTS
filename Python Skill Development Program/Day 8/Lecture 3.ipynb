{
 "cells": [
  {
   "cell_type": "markdown",
   "id": "c6fdf08d",
   "metadata": {},
   "source": [
    "# python program for dictionary"
   ]
  },
  {
   "cell_type": "code",
   "execution_count": 3,
   "id": "927267d7",
   "metadata": {},
   "outputs": [
    {
     "name": "stdout",
     "output_type": "stream",
     "text": [
      "<class 'dict'>\n"
     ]
    },
    {
     "data": {
      "text/plain": [
       "{'Name': 'rudraksh', 'passion': 'programming', 'destination': 'palo alto'}"
      ]
     },
     "execution_count": 3,
     "metadata": {},
     "output_type": "execute_result"
    }
   ],
   "source": [
    "\n",
    "rk_dictionary = {'Name': 'rudraksh', 'passion': 'programming', 'destination':'palo alto'}\n",
    "\n",
    "print(type(rk_dictionary))\n",
    "rk_dictionary"
   ]
  },
  {
   "cell_type": "markdown",
   "id": "e84fefee",
   "metadata": {},
   "source": [
    "# python program for union\n"
   ]
  },
  {
   "cell_type": "code",
   "execution_count": 11,
   "id": "17749442",
   "metadata": {},
   "outputs": [
    {
     "name": "stdout",
     "output_type": "stream",
     "text": [
      "<class 'dict'>\n",
      "Top 5 Studio Ghibli Movies: {'Movies': ['Spirited Away', 'My Neighbour Totoro', \"Howl's Moving Castle\", 'Princess Mononoke', \"Kiki's Delivery Service\"], 'Year': [2001, 1988, 2004, 1997, 1989]}\n"
     ]
    }
   ],
   "source": [
    "Studio_Ghibli={\"Movies\":[\"Spirited Away\",\"My Neighbour Totoro\",\"Howl's Moving Castle\",\"Princess Mononoke\", \"Kiki's Delivery Service\"], \n",
    "               \"Year\":[2001,1988,2004,1997,1989]}\n",
    "print(type(Studio_Ghibli))\n",
    "print(\"Top 5 Studio Ghibli Movies:\",Studio_Ghibli)"
   ]
  },
  {
   "cell_type": "code",
   "execution_count": null,
   "id": "33e76d65",
   "metadata": {},
   "outputs": [],
   "source": []
  }
 ],
 "metadata": {
  "kernelspec": {
   "display_name": "Python 3",
   "language": "python",
   "name": "python3"
  },
  "language_info": {
   "codemirror_mode": {
    "name": "ipython",
    "version": 3
   },
   "file_extension": ".py",
   "mimetype": "text/x-python",
   "name": "python",
   "nbconvert_exporter": "python",
   "pygments_lexer": "ipython3",
   "version": "3.8.8"
  }
 },
 "nbformat": 4,
 "nbformat_minor": 5
}
