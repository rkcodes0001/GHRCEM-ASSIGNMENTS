{
 "cells": [
  {
   "cell_type": "code",
   "execution_count": 8,
   "id": "cc401073",
   "metadata": {},
   "outputs": [
    {
     "name": "stdout",
     "output_type": "stream",
     "text": [
      "[1 2 3 4 5 6]\n",
      "[[1 2 3]\n",
      " [4 5 6]]\n"
     ]
    }
   ],
   "source": [
    "# example 1\n",
    "\n",
    "# example 2\n",
    "\n",
    "import numpy as np\n",
    "\n",
    "array1= np.array([1, 2, 3, 4, 5, 6])\n",
    "\n",
    "array2= np.array([[1, 2, 3], [4, 5, 6]])\n",
    "\n",
    "print(array1)\n",
    "print(array2)\n",
    "\n",
    "\n"
   ]
  },
  {
   "cell_type": "code",
   "execution_count": 6,
   "id": "3dbc0d85",
   "metadata": {},
   "outputs": [
    {
     "name": "stdout",
     "output_type": "stream",
     "text": [
      "[1.  2.  3.  5.  8.9]\n"
     ]
    }
   ],
   "source": [
    "# example 3\n",
    "import numpy as np \n",
    "\n",
    "z = np.array([1,2,3,'a',5, 8.9])  # integer, float is going to be convereted into string\n",
    "F = np.array([1,2,3,5, 8.9]) # converted to float\n",
    "print(F) \n",
    "\n",
    "# priority --> string > float > Integer\n"
   ]
  },
  {
   "cell_type": "code",
   "execution_count": 18,
   "id": "b114f617",
   "metadata": {},
   "outputs": [
    {
     "name": "stdout",
     "output_type": "stream",
     "text": [
      "[1.         1.08163265 1.16326531 1.24489796 1.32653061 1.40816327\n",
      " 1.48979592 1.57142857 1.65306122 1.73469388 1.81632653 1.89795918\n",
      " 1.97959184 2.06122449 2.14285714 2.2244898  2.30612245 2.3877551\n",
      " 2.46938776 2.55102041 2.63265306 2.71428571 2.79591837 2.87755102\n",
      " 2.95918367 3.04081633 3.12244898 3.20408163 3.28571429 3.36734694\n",
      " 3.44897959 3.53061224 3.6122449  3.69387755 3.7755102  3.85714286\n",
      " 3.93877551 4.02040816 4.10204082 4.18367347 4.26530612 4.34693878\n",
      " 4.42857143 4.51020408 4.59183673 4.67346939 4.75510204 4.83673469\n",
      " 4.91836735 5.        ]\n"
     ]
    }
   ],
   "source": [
    "# example 4\n",
    "\n",
    "import numpy as np\n",
    "a = np.linspace(start = 1, stop = 5, endpoint = True, retstep = False)\n",
    "# numpy.linspace(start, stop, num=50, endpoint=True, retstep=False, dtype=None, axis=0)\n",
    "print(a)"
   ]
  },
  {
   "cell_type": "code",
   "execution_count": 20,
   "id": "250e8fab",
   "metadata": {},
   "outputs": [
    {
     "name": "stdout",
     "output_type": "stream",
     "text": [
      "[1 3 5 7 9]\n"
     ]
    }
   ],
   "source": [
    "# example 5\n",
    "\n",
    "import numpy as np\n",
    "\n",
    "# np.arange(start, stop, step)\n",
    "d = np.arange(start =1, stop = 10, step = 2)\n",
    "print(d)"
   ]
  },
  {
   "cell_type": "code",
   "execution_count": 30,
   "id": "aff55b79",
   "metadata": {},
   "outputs": [
    {
     "name": "stdout",
     "output_type": "stream",
     "text": [
      "For 2D Array --> INT datatype\n",
      "[[1 1 1 1]\n",
      " [1 1 1 1]\n",
      " [1 1 1 1]]\n",
      "For Default Datatype\n",
      "[1. 1. 1. 1.]\n",
      "For 1D Array --> String Datatype\n",
      "['1' '1' '1' '1' '1' '1' '1' '1']\n"
     ]
    }
   ],
   "source": [
    "\n"
   ]
  },
  {
   "cell_type": "code",
   "execution_count": 33,
   "id": "599b68a6",
   "metadata": {},
   "outputs": [
    {
     "name": "stdout",
     "output_type": "stream",
     "text": [
      "1D array\n",
      "[[0. 0. 0. 0.]\n",
      " [0. 0. 0. 0.]\n",
      " [0. 0. 0. 0.]]\n",
      "[[0 0 0 0]\n",
      " [0 0 0 0]\n",
      " [0 0 0 0]]\n",
      "[['' '' '' '']\n",
      " ['' '' '' '']\n",
      " ['' '' '' '']]\n"
     ]
    }
   ],
   "source": [
    "\n",
    "# example 7 \n",
    "\n",
    "import numpy as np\n",
    "\n",
    "print(\"1D array\")\n",
    "\n",
    "a = np.zeros((3,4))\n",
    "print(a)\n",
    "\n",
    "b = np.zeros((3,4), int)\n",
    "print(b)\n",
    "\n",
    "c = np.zeros((3,4), str)\n",
    "print(c)"
   ]
  },
  {
   "cell_type": "code",
   "execution_count": 37,
   "id": "0c045c0b",
   "metadata": {},
   "outputs": [
    {
     "name": "stdout",
     "output_type": "stream",
     "text": [
      "[0.63189251 0.96195134 0.40037358 0.85153936 0.58892274 0.51167644\n",
      " 0.2903286  0.33590926 0.78211671 0.1166162 ]\n"
     ]
    }
   ],
   "source": [
    "# random function\n",
    "\n",
    "# example 8\n",
    "\n",
    "import numpy as np\n",
    "\n",
    "c = np.random.rand(10)\n",
    "\n",
    "print(c)\n"
   ]
  },
  {
   "cell_type": "code",
   "execution_count": 43,
   "id": "9d1173e5",
   "metadata": {},
   "outputs": [
    {
     "name": "stdout",
     "output_type": "stream",
     "text": [
      "[1.00000000e+01 2.78255940e+01 7.74263683e+01 2.15443469e+02\n",
      " 5.99484250e+02 1.66810054e+03 4.64158883e+03 1.29154967e+04\n",
      " 3.59381366e+04 1.00000000e+05]\n"
     ]
    }
   ],
   "source": [
    "# numpy.logspace()\n",
    "\n",
    "# numpy.logspace(start, stop, num, endpoint, base, dtype)\n",
    "\n",
    "# num --> number of sample to gernerate\n",
    "import numpy as np\n",
    "a = np.logspace(1, 5, num =10, endpoint = True, base = 10.0)\n",
    "print(a)\n"
   ]
  },
  {
   "cell_type": "code",
   "execution_count": null,
   "id": "86a5d4ac",
   "metadata": {},
   "outputs": [],
   "source": [
    "# timeit\n",
    "# sys.getsizeof(object)\n",
    "# it"
   ]
  }
 ],
 "metadata": {
  "kernelspec": {
   "display_name": "Python 3",
   "language": "python",
   "name": "python3"
  },
  "language_info": {
   "codemirror_mode": {
    "name": "ipython",
    "version": 3
   },
   "file_extension": ".py",
   "mimetype": "text/x-python",
   "name": "python",
   "nbconvert_exporter": "python",
   "pygments_lexer": "ipython3",
   "version": "3.8.8"
  }
 },
 "nbformat": 4,
 "nbformat_minor": 5
}
