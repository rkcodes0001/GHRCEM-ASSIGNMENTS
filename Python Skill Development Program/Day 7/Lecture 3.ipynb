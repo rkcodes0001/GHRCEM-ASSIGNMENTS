{
 "cells": [
  {
   "cell_type": "code",
   "execution_count": 6,
   "id": "22da705d",
   "metadata": {},
   "outputs": [
    {
     "name": "stdout",
     "output_type": "stream",
     "text": [
      "The sorted words are:\n",
      "is\n",
      "nice\n",
      "rudraksh,\n",
      "see\n",
      "this\n",
      "to\n",
      "you!\n"
     ]
    }
   ],
   "source": [
    "    # Program to sort the words alphabetically from a string provided by the user\n",
    "\n",
    "    my_str = \"This is Rudraksh, Nice to see you!\"\n",
    "\n",
    "    # breakdown the string into a list of words\n",
    "    words = [word.lower() for word in my_str.split()]\n",
    "\n",
    "    # sort the list\n",
    "    words.sort()\n",
    "\n",
    "    # display the sorted words\n",
    "    print(\"The sorted words are:\")\n",
    "    for word in words:\n",
    "       print(word)"
   ]
  },
  {
   "cell_type": "code",
   "execution_count": 7,
   "id": "68093f20",
   "metadata": {},
   "outputs": [
    {
     "name": "stdout",
     "output_type": "stream",
     "text": [
      "Enter a string: Rudraksh here\n",
      "The sorted words are:\n",
      "HERE\n",
      "RUDRAKSH\n"
     ]
    }
   ],
   "source": [
    "# Program to sort the words alphabetically from a string provided by the user\n",
    "\n",
    "my_str = input(\"Enter a string: \")\n",
    "\n",
    "words = [word.upper() for word in my_str.split()]\n",
    "\n",
    "words.sort()\n",
    "\n",
    "print(\"The sorted words are:\")\n",
    "for word in words:\n",
    "   print(word)"
   ]
  },
  {
   "cell_type": "code",
   "execution_count": null,
   "id": "0793651c",
   "metadata": {},
   "outputs": [],
   "source": []
  }
 ],
 "metadata": {
  "kernelspec": {
   "display_name": "Python 3",
   "language": "python",
   "name": "python3"
  },
  "language_info": {
   "codemirror_mode": {
    "name": "ipython",
    "version": 3
   },
   "file_extension": ".py",
   "mimetype": "text/x-python",
   "name": "python",
   "nbconvert_exporter": "python",
   "pygments_lexer": "ipython3",
   "version": "3.8.8"
  }
 },
 "nbformat": 4,
 "nbformat_minor": 5
}
