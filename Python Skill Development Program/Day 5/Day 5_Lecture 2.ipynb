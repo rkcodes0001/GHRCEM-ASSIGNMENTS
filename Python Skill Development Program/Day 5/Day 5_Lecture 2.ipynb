{
 "cells": [
  {
   "cell_type": "code",
   "execution_count": 2,
   "id": "d668915d",
   "metadata": {},
   "outputs": [
    {
     "name": "stdout",
     "output_type": "stream",
     "text": [
      "array('i', [1, 2, 4])\n"
     ]
    }
   ],
   "source": [
    "# program to delete an element from the array\n",
    "import array as arr\n",
    "\n",
    "number = arr.array('i',[1,2,3,4])\n",
    "del number[2]\n",
    "print(number)"
   ]
  },
  {
   "cell_type": "code",
   "execution_count": null,
   "id": "46b7c695",
   "metadata": {},
   "outputs": [],
   "source": [
    "# python program to find the sum of array \n",
    "\n",
    "arr=[]\n",
    "arr[]"
   ]
  },
  {
   "cell_type": "code",
   "execution_count": 6,
   "id": "2fc34296",
   "metadata": {},
   "outputs": [
    {
     "name": "stdout",
     "output_type": "stream",
     "text": [
      "WishRudraksh\n"
     ]
    }
   ],
   "source": [
    "# concatenating of two string\n",
    "\n",
    "str1  = \"Wish\"\n",
    "str2 = \"Rudraksh\"\n",
    "\n",
    "str3 = str1 + str2\n",
    "\n",
    "print(str3)"
   ]
  },
  {
   "cell_type": "code",
   "execution_count": 7,
   "id": "f06ae8b0",
   "metadata": {},
   "outputs": [
    {
     "name": "stdout",
     "output_type": "stream",
     "text": [
      "HelloPython\n"
     ]
    }
   ],
   "source": [
    "# join()method\n",
    "\n",
    "str1 = \"Hello\"\n",
    "str2 = \"Python\"\n",
    "\n",
    "print(\"\".join([str1, str2]))"
   ]
  },
  {
   "cell_type": "code",
   "execution_count": 13,
   "id": "1d53e89a",
   "metadata": {},
   "outputs": [
    {
     "name": "stdout",
     "output_type": "stream",
     "text": [
      "The list1 and list2 are not similar\n",
      "\n"
     ]
    }
   ],
   "source": [
    "# compare two list in pyhton\n",
    "\n",
    "list1 = [11,22,33,44,55,66]\n",
    "list2 = [44,55,66,22,11]\n",
    "\n",
    "# a = set(list1)\n",
    "# b = set(list2)\n",
    "a = list1\n",
    "b = list2\n",
    "\n",
    "if a == b:\n",
    "    print(\"The list1 and list2 are similar\\n\")\n",
    "else:\n",
    "    print(\"The list1 and list2 are not similar\\n\")"
   ]
  },
  {
   "cell_type": "code",
   "execution_count": 16,
   "id": "dfb368c1",
   "metadata": {},
   "outputs": [
    {
     "name": "stdout",
     "output_type": "stream",
     "text": [
      "Please enter the list:ram lakhan mohit\n",
      "ram lakhan mohit\n"
     ]
    }
   ],
   "source": [
    "# program to create a list of 8 elements\n",
    "a = [] \n",
    "a = input(\"Please enter the list:\")\n",
    "print(a)"
   ]
  },
  {
   "cell_type": "code",
   "execution_count": 25,
   "id": "9c44f194",
   "metadata": {},
   "outputs": [
    {
     "name": "stdout",
     "output_type": "stream",
     "text": [
      "Smallest element is: 5\n",
      "Smallest element is: 73\n"
     ]
    }
   ],
   "source": [
    "# print smallest element in an array\n",
    "\n",
    "array = [12,11,5,7,35,25,73]\n",
    "print(\"Smallest element is:\", min(array))\n",
    "print(\"Smallest element is:\", max(array))\n",
    "# for i in range(0,len(array)):\n",
    "#     if(array[i]>max):\n",
    "#         max=array[i]\n",
    "#         print(\"smallest element presernt in given array:\" + str(max)"
   ]
  },
  {
   "cell_type": "code",
   "execution_count": 28,
   "id": "7548e86e",
   "metadata": {},
   "outputs": [
    {
     "name": "stdout",
     "output_type": "stream",
     "text": [
      "The smallest element in the list is 5\n"
     ]
    }
   ],
   "source": [
    "# finding the minimum number in the array using loop\n",
    "\n",
    "array = [12,11,5,7,35,25,73]\n",
    "min = array[0]\n",
    "for i in range(len(array)):\n",
    "    if array[i]<min:\n",
    "        min = array[i]\n",
    "print(\"The smallest element in the list is\", min)"
   ]
  },
  {
   "cell_type": "code",
   "execution_count": 34,
   "id": "69c27bad",
   "metadata": {},
   "outputs": [
    {
     "name": "stdout",
     "output_type": "stream",
     "text": [
      "The maximum element in the list is 101\n"
     ]
    }
   ],
   "source": [
    "# finding the maximum number in a list or array using loop\n",
    "\n",
    "# a = [] \n",
    "a = [12,11,5,7,35,25,73,101]\n",
    "# print(a)\n",
    "max = a[0] # first element considered as  max\n",
    "\n",
    "for i in range(len(a)): \n",
    "    if a[i]>max: # is comparing for all the values in the list \n",
    "        max=a[i] \n",
    "\n",
    "print(\"The maximum element in the list is\", max)\n",
    "\n",
    "\n"
   ]
  },
  {
   "cell_type": "code",
   "execution_count": null,
   "id": "36915995",
   "metadata": {},
   "outputs": [],
   "source": []
  }
 ],
 "metadata": {
  "kernelspec": {
   "display_name": "Python 3",
   "language": "python",
   "name": "python3"
  },
  "language_info": {
   "codemirror_mode": {
    "name": "ipython",
    "version": 3
   },
   "file_extension": ".py",
   "mimetype": "text/x-python",
   "name": "python",
   "nbconvert_exporter": "python",
   "pygments_lexer": "ipython3",
   "version": "3.8.8"
  }
 },
 "nbformat": 4,
 "nbformat_minor": 5
}
