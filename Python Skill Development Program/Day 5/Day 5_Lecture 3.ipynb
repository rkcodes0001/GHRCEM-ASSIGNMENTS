{
 "cells": [
  {
   "cell_type": "markdown",
   "id": "83b205b7",
   "metadata": {},
   "source": [
    "# Python program to swap two variables\n"
   ]
  },
  {
   "cell_type": "code",
   "execution_count": 3,
   "id": "9b383c21",
   "metadata": {},
   "outputs": [
    {
     "name": "stdout",
     "output_type": "stream",
     "text": [
      "Please Enter Value 1 as value of x: 1\n",
      "Please Enter value 2 as value of y: 2\n",
      "The value of x after swapping: 2\n",
      "The value of y after swapping: 1\n"
     ]
    }
   ],
   "source": [
    "\n",
    "x = input('Please Enter Value 1 as value of x: ')\n",
    "y = input('Please Enter value 2 as value of y: ')\n",
    "\n",
    "temp = x\n",
    "x = y\n",
    "y = temp\n",
    "\n",
    "print('The value of x after swapping: {}'.format(x))\n",
    "print('The value of y after swapping: {}'.format(y))"
   ]
  },
  {
   "cell_type": "code",
   "execution_count": null,
   "id": "21416110",
   "metadata": {},
   "outputs": [],
   "source": []
  }
 ],
 "metadata": {
  "kernelspec": {
   "display_name": "Python 3",
   "language": "python",
   "name": "python3"
  },
  "language_info": {
   "codemirror_mode": {
    "name": "ipython",
    "version": 3
   },
   "file_extension": ".py",
   "mimetype": "text/x-python",
   "name": "python",
   "nbconvert_exporter": "python",
   "pygments_lexer": "ipython3",
   "version": "3.8.8"
  }
 },
 "nbformat": 4,
 "nbformat_minor": 5
}
