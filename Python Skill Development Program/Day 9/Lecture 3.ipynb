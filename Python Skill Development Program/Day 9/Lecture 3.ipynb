{
 "cells": [
  {
   "cell_type": "markdown",
   "id": "6afca265",
   "metadata": {},
   "source": [
    "# Python program to find prime number\n"
   ]
  },
  {
   "cell_type": "code",
   "execution_count": 15,
   "id": "4e0397ee",
   "metadata": {},
   "outputs": [
    {
     "name": "stdout",
     "output_type": "stream",
     "text": [
      "Enter a number: 13\n",
      "13 is a prime number\n"
     ]
    }
   ],
   "source": [
    "\n",
    "num = int(input(\"Enter a number: \"))\n",
    "\n",
    "flag = False\n",
    "\n",
    "if num > 1:\n",
    "    for i in range(2, num):\n",
    "        if (num % i) == 0:\n",
    "            flag = True\n",
    "            break\n",
    "\n",
    "if flag:\n",
    "    print(num, \"is not a prime number\")\n",
    "else:\n",
    "    print(num, \"is a prime number\")"
   ]
  },
  {
   "cell_type": "markdown",
   "id": "c7a9f880",
   "metadata": {},
   "source": [
    "# Finding prime numbers in a range"
   ]
  },
  {
   "cell_type": "code",
   "execution_count": 20,
   "id": "4f57faf0",
   "metadata": {},
   "outputs": [
    {
     "name": "stdout",
     "output_type": "stream",
     "text": [
      "Please Enter Number to start from: 1 \n",
      "Please Enter Number to upto: 20\n",
      "Prime numbers between 1 and 20 are:\n",
      "2\n",
      "3\n",
      "5\n",
      "7\n",
      "11\n",
      "13\n",
      "17\n",
      "19\n"
     ]
    }
   ],
   "source": [
    "\n",
    "lower = int(input(\"Please Enter Number to start from: \"))\n",
    "upper = int(input(\"Please Enter Number to upto: \"))\n",
    "\n",
    "print(\"Prime numbers between\", lower, \"and\", upper, \"are:\")\n",
    "\n",
    "for num1 in range(lower, upper + 1):\n",
    "   if num1 > 1:\n",
    "       for i in range(2, num1):\n",
    "           if (num1 % i) == 0:\n",
    "               break\n",
    "       else:\n",
    "           print(num1)\n"
   ]
  },
  {
   "cell_type": "markdown",
   "id": "a8eeb042",
   "metadata": {},
   "source": [
    "# python programs using modules "
   ]
  },
  {
   "cell_type": "code",
   "execution_count": 38,
   "id": "097a00a2",
   "metadata": {},
   "outputs": [
    {
     "name": "stdout",
     "output_type": "stream",
     "text": [
      "4.0\n",
      "3628800\n"
     ]
    }
   ],
   "source": [
    "    from math import sqrt, factorial\n",
    "    print(sqrt(16))\n",
    "    print(factorial(10))"
   ]
  },
  {
   "cell_type": "code",
   "execution_count": 37,
   "id": "5689026d",
   "metadata": {},
   "outputs": [
    {
     "name": "stdout",
     "output_type": "stream",
     "text": [
      "90.0\n",
      "1.0471975511965976\n",
      "-0.3048106211022167\n",
      "-0.9524129804151563\n"
     ]
    }
   ],
   "source": [
    "import math\n",
    "\n",
    "print(math.degrees((math.pi/2)))\n",
    "print(math.radians(60))\n",
    "print(math.sin(60))\n",
    "print(math.cos(60))\n"
   ]
  },
  {
   "cell_type": "code",
   "execution_count": 29,
   "id": "c6e49550",
   "metadata": {},
   "outputs": [
    {
     "name": "stdout",
     "output_type": "stream",
     "text": [
      "793\n"
     ]
    }
   ],
   "source": [
    "import random \n",
    "print(random.randint(1,1000))"
   ]
  },
  {
   "cell_type": "code",
   "execution_count": 32,
   "id": "24e3af04",
   "metadata": {},
   "outputs": [
    {
     "name": "stdout",
     "output_type": "stream",
     "text": [
      "choosing from list:\n",
      "6\n",
      "choosing from string:\n",
      "h\n"
     ]
    }
   ],
   "source": [
    "import random\n",
    "  \n",
    "list1 = [1, 2, 3, 4, 5, 6] \n",
    "print(\"choosing from list:\")\n",
    "print(random.choice(list1))\n",
    "\n",
    "string = \"Rudraksh\" \n",
    "print(\"choosing from string:\")\n",
    "print(random.choice(string))"
   ]
  },
  {
   "cell_type": "code",
   "execution_count": null,
   "id": "d58ea03d",
   "metadata": {},
   "outputs": [],
   "source": []
  }
 ],
 "metadata": {
  "kernelspec": {
   "display_name": "Python 3",
   "language": "python",
   "name": "python3"
  },
  "language_info": {
   "codemirror_mode": {
    "name": "ipython",
    "version": 3
   },
   "file_extension": ".py",
   "mimetype": "text/x-python",
   "name": "python",
   "nbconvert_exporter": "python",
   "pygments_lexer": "ipython3",
   "version": "3.8.8"
  }
 },
 "nbformat": 4,
 "nbformat_minor": 5
}
