{
 "cells": [
  {
   "cell_type": "code",
   "execution_count": 11,
   "id": "19b73266",
   "metadata": {},
   "outputs": [
    {
     "name": "stdout",
     "output_type": "stream",
     "text": [
      "Time zone for India\n",
      "2022-01-27 12:18:04.388520+05:30\n",
      "Time zone for USA\n",
      "2022-01-27 00:48:04.388520-06:00\n"
     ]
    }
   ],
   "source": [
    "import datetime\n",
    "import pytz\n",
    "  \n",
    "dt_obj = datetime.datetime.now(pytz.utc)\n",
    "print(\"Time zone for India\")  \n",
    "dt_obj_asia = datetime.datetime.now(pytz.timezone('Asia/Kolkata'))\n",
    "print(dt_obj_asia)\n",
    "\n",
    "print(\"Time zone for USA\")\n",
    "dt_obj_usc = datetime.datetime.now(pytz.timezone('US/Central'))\n",
    "print(dt_obj_usc)\n"
   ]
  },
  {
   "cell_type": "code",
   "execution_count": null,
   "id": "43fdbb9f",
   "metadata": {},
   "outputs": [],
   "source": []
  }
 ],
 "metadata": {
  "kernelspec": {
   "display_name": "Python 3",
   "language": "python",
   "name": "python3"
  },
  "language_info": {
   "codemirror_mode": {
    "name": "ipython",
    "version": 3
   },
   "file_extension": ".py",
   "mimetype": "text/x-python",
   "name": "python",
   "nbconvert_exporter": "python",
   "pygments_lexer": "ipython3",
   "version": "3.8.8"
  }
 },
 "nbformat": 4,
 "nbformat_minor": 5
}
