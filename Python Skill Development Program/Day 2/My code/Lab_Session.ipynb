{
 "cells": [
  {
   "cell_type": "markdown",
   "id": "12868e2c",
   "metadata": {},
   "source": [
    "# Program to get user Input and Display week Days"
   ]
  },
  {
   "cell_type": "code",
   "execution_count": 2,
   "id": "6a47f60c",
   "metadata": {},
   "outputs": [
    {
     "name": "stdout",
     "output_type": "stream",
     "text": [
      "Enter weekday day number (1-7) : 5\n",
      "\n",
      "Friday\n"
     ]
    }
   ],
   "source": [
    "weekday = int(input(\"Enter weekday day number (1-7) : \"))\n",
    "\n",
    "if weekday == 1:\n",
    "    print(\"\\nMonday\")\n",
    "\n",
    "elif weekday == 2:\n",
    "    print(\"\\nTuesday\")\n",
    "\n",
    "elif(weekday == 3):\n",
    "    print(\"\\nWednesday\")\n",
    "\n",
    "elif(weekday == 4):\n",
    "    print(\"\\nThursday\")\n",
    "\n",
    "elif(weekday == 5):\n",
    "    print(\"\\nFriday\")\n",
    "\n",
    "elif(weekday == 6):\n",
    "    print(\"\\nSaturday\")\n",
    "\n",
    "elif (weekday == 7):\n",
    "    print(\"\\nSunday\")\n",
    "\n",
    "else:\n",
    "    print(\"\\nPlease enter weekday number between 1-7.\")\n",
    "   \n"
   ]
  },
  {
   "cell_type": "markdown",
   "id": "62938bba",
   "metadata": {},
   "source": [
    "# Factorial number generator\n"
   ]
  },
  {
   "cell_type": "code",
   "execution_count": 3,
   "id": "12c44c17",
   "metadata": {},
   "outputs": [
    {
     "name": "stdout",
     "output_type": "stream",
     "text": [
      "Enter a number: 7\n",
      "The factorial of 7 is 5040\n"
     ]
    }
   ],
   "source": [
    "num = int(input(\"Enter a number: \"))\n",
    "\n",
    "factorial = 1\n",
    "\n",
    "if num < 0:\n",
    "   print(\"Sorry, factorial does not exist for negative numbers\")\n",
    "elif num == 0:\n",
    "   print(\"The factorial of 0 is 1\")\n",
    "else:\n",
    "   for i in range(1, num + 1):\n",
    "       factorial = factorial*i\n",
    "   print(\"The factorial of\", num, \"is\", factorial)"
   ]
  },
  {
   "cell_type": "markdown",
   "id": "34a30fb4",
   "metadata": {},
   "source": [
    "# Program to check if number is positive negative or zero"
   ]
  },
  {
   "cell_type": "code",
   "execution_count": 4,
   "id": "6515145e",
   "metadata": {},
   "outputs": [
    {
     "name": "stdout",
     "output_type": "stream",
     "text": [
      "Input a number: 8\n",
      "It is positive number\n"
     ]
    }
   ],
   "source": [
    "num = float(input(\"Input a number: \"))\n",
    "if num > 0:\n",
    "   print(\"It is positive number\")\n",
    "elif num == 0:\n",
    "   print(\"It is Zero\")\n",
    "else:\n",
    "   print(\"It is a negative number\")"
   ]
  },
  {
   "cell_type": "markdown",
   "id": "09f71676",
   "metadata": {},
   "source": [
    "# simple interest calculator using Python"
   ]
  },
  {
   "cell_type": "code",
   "execution_count": 8,
   "id": "091b4f9b",
   "metadata": {},
   "outputs": [
    {
     "name": "stdout",
     "output_type": "stream",
     "text": [
      "Enter P:7\n",
      "Enter R:4\n",
      "Enter T:3\n"
     ]
    },
    {
     "ename": "TypeError",
     "evalue": "can't multiply sequence by non-int of type 'str'",
     "output_type": "error",
     "traceback": [
      "\u001b[1;31m---------------------------------------------------------------------------\u001b[0m",
      "\u001b[1;31mTypeError\u001b[0m                                 Traceback (most recent call last)",
      "\u001b[1;32m<ipython-input-8-889469bc4e9a>\u001b[0m in \u001b[0;36m<module>\u001b[1;34m\u001b[0m\n\u001b[0;32m      2\u001b[0m \u001b[0mR\u001b[0m \u001b[1;33m=\u001b[0m \u001b[0minput\u001b[0m\u001b[1;33m(\u001b[0m\u001b[1;34m\"Enter R:\"\u001b[0m\u001b[1;33m)\u001b[0m\u001b[1;33m\u001b[0m\u001b[1;33m\u001b[0m\u001b[0m\n\u001b[0;32m      3\u001b[0m \u001b[0mT\u001b[0m \u001b[1;33m=\u001b[0m \u001b[0minput\u001b[0m\u001b[1;33m(\u001b[0m\u001b[1;34m\"Enter T:\"\u001b[0m\u001b[1;33m)\u001b[0m\u001b[1;33m\u001b[0m\u001b[1;33m\u001b[0m\u001b[0m\n\u001b[1;32m----> 4\u001b[1;33m \u001b[0mSimple_interest\u001b[0m \u001b[1;33m=\u001b[0m \u001b[1;33m(\u001b[0m\u001b[0mP\u001b[0m \u001b[1;33m*\u001b[0m \u001b[0mR\u001b[0m \u001b[1;33m*\u001b[0m \u001b[0mT\u001b[0m\u001b[1;33m)\u001b[0m \u001b[1;33m/\u001b[0m \u001b[1;36m100\u001b[0m\u001b[1;33m\u001b[0m\u001b[1;33m\u001b[0m\u001b[0m\n\u001b[0m\u001b[0;32m      5\u001b[0m \u001b[0mprint\u001b[0m\u001b[1;33m(\u001b[0m\u001b[1;34m\"The simple interest is:\"\u001b[0m\u001b[1;33m,\u001b[0m \u001b[0mSimple_interest\u001b[0m\u001b[1;33m)\u001b[0m\u001b[1;33m\u001b[0m\u001b[1;33m\u001b[0m\u001b[0m\n",
      "\u001b[1;31mTypeError\u001b[0m: can't multiply sequence by non-int of type 'str'"
     ]
    }
   ],
   "source": [
    "P = input(\"Enter P:\")\n",
    "R = input(\"Enter R:\")\n",
    "T = input(\"Enter T:\")\n",
    "Simple_interest = (P * R * T) / 100\n",
    "print(\"The simple interest is:\", Simple_interest)"
   ]
  },
  {
   "cell_type": "code",
   "execution_count": 9,
   "id": "945de5e1",
   "metadata": {},
   "outputs": [
    {
     "name": "stdout",
     "output_type": "stream",
     "text": [
      "Enter First Number: 54\n",
      "Enter Second Number: 2\n",
      "Enter which operation would you like to perform?\n",
      "Enter any of these char for specific operation +,-,*,/: 62\n",
      "Input character is not recognized!\n",
      "54 62 2 : 0\n"
     ]
    }
   ],
   "source": [
    "num1 = int(input(\"Enter First Number: \"))\n",
    "num2 = int(input(\"Enter Second Number: \"))\n",
    "\n",
    "print(\"Enter which operation would you like to perform?\")\n",
    "ch = input(\"Enter any of these char for specific operation +,-,*,/: \")\n",
    "\n",
    "result = 0\n",
    "if ch == '+':\n",
    "    result = num1 + num2\n",
    "elif ch == '-':\n",
    "    result = num1 - num2\n",
    "elif ch == '*':\n",
    "    result = num1 * num2\n",
    "elif ch == '/':\n",
    "    result = num1 / num2\n",
    "else:\n",
    "    print(\"Input character is not recognized!\")\n",
    "\n",
    "print(num1, ch , num2, \":\", result)"
   ]
  },
  {
   "cell_type": "code",
   "execution_count": null,
   "id": "6f7aebd4",
   "metadata": {},
   "outputs": [],
   "source": []
  }
 ],
 "metadata": {
  "kernelspec": {
   "display_name": "Python 3",
   "language": "python",
   "name": "python3"
  },
  "language_info": {
   "codemirror_mode": {
    "name": "ipython",
    "version": 3
   },
   "file_extension": ".py",
   "mimetype": "text/x-python",
   "name": "python",
   "nbconvert_exporter": "python",
   "pygments_lexer": "ipython3",
   "version": "3.8.8"
  }
 },
 "nbformat": 4,
 "nbformat_minor": 5
}
