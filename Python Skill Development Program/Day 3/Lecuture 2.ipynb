{
 "cells": [
  {
   "cell_type": "markdown",
   "id": "f9b3f55e",
   "metadata": {},
   "source": [
    "# python program to find the student grade"
   ]
  },
  {
   "cell_type": "code",
   "execution_count": 28,
   "id": "36e791ad",
   "metadata": {},
   "outputs": [
    {
     "name": "stdout",
     "output_type": "stream",
     "text": [
      " Please enter English Marks: 88\n",
      " Please enter Math score: 25\n",
      " Please enter Computer Marks: 26\n",
      " Please enter Physics Marks: 26\n",
      " Please enter Chemistry Marks: 262\n",
      "Total Marks = 427.00\n",
      "Marks Percentage = 85.40\n"
     ]
    }
   ],
   "source": [
    "english = float(input(\" Please enter English Marks: \"))\n",
    "math = float(input(\" Please enter Math score: \"))\n",
    "computers = float(input(\" Please enter Computer Marks: \"))\n",
    "physics = float(input(\" Please enter Physics Marks: \"))\n",
    "chemistry = float(input(\" Please enter Chemistry Marks: \"))\n",
    "\n",
    "total = english + math + computers + physics + chemistry\n",
    "percentage = (total / 500) * 100\n",
    "\n",
    "print(\"Total Marks = %.2f\"  %total)\n",
    "print(\"Marks Percentage = %.2f\"  %percentage)"
   ]
  },
  {
   "cell_type": "markdown",
   "id": "86d9e40f",
   "metadata": {},
   "source": [
    "# python program to print the inverted start patten"
   ]
  },
  {
   "cell_type": "code",
   "execution_count": 6,
   "id": "a512ed41",
   "metadata": {},
   "outputs": [
    {
     "name": "stdout",
     "output_type": "stream",
     "text": [
      "Enter number of rows: 6\n",
      "******\n",
      " *****\n",
      "  ****\n",
      "   ***\n",
      "    **\n",
      "     *\n"
     ]
    }
   ],
   "source": [
    "n=int(input(\"Enter number of rows: \"))\n",
    "for i in range (n,0,-1):\n",
    "    print((n-i) * ' ' + i * '*')"
   ]
  },
  {
   "cell_type": "markdown",
   "id": "b454a186",
   "metadata": {},
   "source": [
    "# Python program to generate a random number between 0 to 9"
   ]
  },
  {
   "cell_type": "code",
   "execution_count": 7,
   "id": "1b8064c3",
   "metadata": {},
   "outputs": [
    {
     "name": "stdout",
     "output_type": "stream",
     "text": [
      "3\n"
     ]
    }
   ],
   "source": [
    "\n",
    "import random\n",
    "# we can generate any random number here using random library\n",
    "print(random.randint(0,9))\n"
   ]
  },
  {
   "cell_type": "markdown",
   "id": "f33b1dc6",
   "metadata": {},
   "source": [
    "# Python program to covert kilometers to Miles"
   ]
  },
  {
   "cell_type": "code",
   "execution_count": 11,
   "id": "b2da243a",
   "metadata": {},
   "outputs": [
    {
     "name": "stdout",
     "output_type": "stream",
     "text": [
      "Enter value in kilometers: 82\n",
      "82.00 kilometers is equal to 50.95 miles\n"
     ]
    }
   ],
   "source": [
    "\n",
    "kilometers = float(input(\"Enter value in kilometers: \"))\n",
    "\n",
    "# conversion factor as default value\n",
    "conv_fac = 0.621371\n",
    "\n",
    "miles = kilometers * conv_fac\n",
    "print('%0.2f kilometers is equal to %0.2f miles' %(kilometers,miles))\n"
   ]
  },
  {
   "cell_type": "markdown",
   "id": "42937680",
   "metadata": {},
   "source": [
    "# program to check if the Number is odd or even"
   ]
  },
  {
   "cell_type": "code",
   "execution_count": 13,
   "id": "c926bdf5",
   "metadata": {},
   "outputs": [
    {
     "name": "stdout",
     "output_type": "stream",
     "text": [
      "Enter a number: 8\n",
      "8 is Even number\n"
     ]
    }
   ],
   "source": [
    "num = int(input(\"Enter a number: \"))  \n",
    "if (num % 2) == 0:  \n",
    "   print(\"{0} is Even number\".format(num))  \n",
    "else:  \n",
    "   print(\"{0} is Odd number\".format(num))  \n"
   ]
  },
  {
   "cell_type": "markdown",
   "id": "e04973cd",
   "metadata": {},
   "source": [
    "# python program to display calender"
   ]
  },
  {
   "cell_type": "code",
   "execution_count": 15,
   "id": "56c3d306",
   "metadata": {},
   "outputs": [
    {
     "name": "stdout",
     "output_type": "stream",
     "text": [
      "Enter year: 2021\n",
      "Enter month: 08\n",
      "    August 2021\n",
      "Mo Tu We Th Fr Sa Su\n",
      "                   1\n",
      " 2  3  4  5  6  7  8\n",
      " 9 10 11 12 13 14 15\n",
      "16 17 18 19 20 21 22\n",
      "23 24 25 26 27 28 29\n",
      "30 31\n",
      "\n"
     ]
    }
   ],
   "source": [
    "\n",
    "import calendar\n",
    "\n",
    "\n",
    "yy = int(input(\"Enter year: \"))\n",
    "mm = int(input(\"Enter month: \"))\n",
    "\n",
    "# displaying the calender\n",
    "print(calendar.month(yy, mm))"
   ]
  },
  {
   "cell_type": "markdown",
   "id": "07ac1c7f",
   "metadata": {},
   "source": [
    "# python program to delete elements from dictionary"
   ]
  },
  {
   "cell_type": "code",
   "execution_count": 25,
   "id": "8a5f527c",
   "metadata": {},
   "outputs": [
    {
     "name": "stdout",
     "output_type": "stream",
     "text": [
      "{1: 'a', 2: 'b'}\n",
      "b\n"
     ]
    }
   ],
   "source": [
    "dictionary = {1: 'a', 2: 'b', 3: 'c'}\n",
    "\n",
    "del dictionary[3]\n",
    "print(dictionary)\n",
    "\n",
    "# using pop() function\n",
    "print(dictionary.pop(2))\n"
   ]
  },
  {
   "cell_type": "markdown",
   "id": "3623941d",
   "metadata": {},
   "source": [
    "# python program to trim whitespaces from string"
   ]
  },
  {
   "cell_type": "code",
   "execution_count": 18,
   "id": "18ee5468",
   "metadata": {},
   "outputs": [
    {
     "name": "stdout",
     "output_type": "stream",
     "text": [
      "The original string is : Rudraksh is a       passionate         programmer\n",
      "The strings after extra space removal : Rudraksh is a passionate programmer\n"
     ]
    }
   ],
   "source": [
    "\n",
    "import re\n",
    "  \n",
    "# initializing string \n",
    "string = \"Rudraksh is a       passionate         programmer\"\n",
    "  \n",
    "# printing original string \n",
    "print(\"The original string is : \" + string)\n",
    "  \n",
    "New_string = re.sub(' +', ' ',string)\n",
    "  \n",
    "print(\"The strings after extra space removal : \" + str(New_string))"
   ]
  },
  {
   "cell_type": "markdown",
   "id": "8c2dfc6b",
   "metadata": {},
   "source": [
    "# python program to calculate square of a number"
   ]
  },
  {
   "cell_type": "code",
   "execution_count": 21,
   "id": "44e6b7a4",
   "metadata": {},
   "outputs": [
    {
     "name": "stdout",
     "output_type": "stream",
     "text": [
      " Enter the Number : 99\n",
      "The Square of a Given Number 99.0  = 9801.0\n"
     ]
    }
   ],
   "source": [
    "\n",
    "number = float(input(\" Enter the Number : \"))\n",
    "\n",
    "square = number * number\n",
    "\n",
    "print(\"The Square of a Given Number {0}  = {1}\".format(number, square))"
   ]
  },
  {
   "cell_type": "markdown",
   "id": "847eb0e7",
   "metadata": {},
   "source": [
    "# Python Program to find the area of rectangle"
   ]
  },
  {
   "cell_type": "code",
   "execution_count": 24,
   "id": "492ffbe9",
   "metadata": {},
   "outputs": [
    {
     "name": "stdout",
     "output_type": "stream",
     "text": [
      "Enter the length of a Rectangle: 5\n",
      "Enter the breadth of a Rectangle: 3\n",
      "Area of a Rectangle is: 15.00\n"
     ]
    }
   ],
   "source": [
    "l = float(input('Enter the length of a Rectangle: '))\n",
    "b = float(input('Enter the breadth of a Rectangle: '))\n",
    "Area = l * b\n",
    "print(\"Area of a Rectangle is: %.2f\" %Area)"
   ]
  },
  {
   "cell_type": "markdown",
   "id": "32ef23c6",
   "metadata": {},
   "source": [
    "# python program to check if the given number is amstrong number"
   ]
  },
  {
   "cell_type": "code",
   "execution_count": 26,
   "id": "3c886b18",
   "metadata": {},
   "outputs": [
    {
     "name": "stdout",
     "output_type": "stream",
     "text": [
      "Enter a number: 153\n",
      "153 is an Armstrong number\n"
     ]
    }
   ],
   "source": [
    "\n",
    "num = int(input(\"Enter a number: \"))\n",
    "\n",
    "sum = 0\n",
    "\n",
    "temp = num\n",
    "while temp > 0:\n",
    "   digit = temp % 10\n",
    "   sum += digit ** 3\n",
    "   temp //= 10\n",
    "\n",
    "if num == sum:\n",
    "   print(num,\"is an Armstrong number\")\n",
    "else:\n",
    "   print(num,\"is not an Armstrong number\")\n"
   ]
  },
  {
   "cell_type": "markdown",
   "id": "4e6eb02f",
   "metadata": {},
   "source": [
    "# python program to find the area of circle"
   ]
  },
  {
   "cell_type": "code",
   "execution_count": 27,
   "id": "e741926a",
   "metadata": {},
   "outputs": [
    {
     "name": "stdout",
     "output_type": "stream",
     "text": [
      "Enter the radius of a circle:7\n",
      "Area of a circle = 153.86\n"
     ]
    }
   ],
   "source": [
    "PI = 3.14\n",
    "r = float(input(\"Enter the radius of a circle:\"))\n",
    "area = PI * r * r\n",
    "print(\"Area of a circle = %.2f\" %area)"
   ]
  },
  {
   "cell_type": "markdown",
   "id": "259e0dd4",
   "metadata": {},
   "source": [
    "# Python program to check whether the given alphabet is vowel"
   ]
  },
  {
   "cell_type": "code",
   "execution_count": 31,
   "id": "d87aec22",
   "metadata": {},
   "outputs": [
    {
     "name": "stdout",
     "output_type": "stream",
     "text": [
      "Enter a character: a\n",
      "a is a Vowel\n"
     ]
    }
   ],
   "source": [
    "Alphabet = input(\"Enter a character: \")\n",
    "\n",
    "if(Alphabet=='A' or Alphabet=='a' or Alphabet=='E' or Alphabet =='e' or Alphabet=='I'\n",
    " or Alphabet=='i' or Alphabet=='O' or Alphabet=='o' or Alphabet=='U' or Alphabet=='u'):\n",
    "    print(Alphabet, \"is a Vowel\")\n",
    "else:\n",
    "    print(Alphabet, \"is a Consonant\")\n"
   ]
  },
  {
   "cell_type": "markdown",
   "id": "fa27e3c2",
   "metadata": {},
   "source": [
    "# python program to reverse a string"
   ]
  },
  {
   "cell_type": "code",
   "execution_count": 34,
   "id": "9b9d6358",
   "metadata": {},
   "outputs": [
    {
     "name": "stdout",
     "output_type": "stream",
     "text": [
      "The original string  is : rudrakshkarpe\n",
      "The reversed string(using extended slice syntax) is : eprakhskardur\n"
     ]
    }
   ],
   "source": [
    "def reverse(string):\n",
    "    string = string[::-1]\n",
    "    return string\n",
    "  \n",
    "s = \"rudrakshkarpe\"\n",
    "  \n",
    "print (\"The original string  is : \",end=\"\")\n",
    "print (s)\n",
    "  \n",
    "print (\"The reversed string(using extended slice syntax) is : \",end=\"\")\n",
    "print (reverse(s))\n"
   ]
  },
  {
   "cell_type": "markdown",
   "id": "fb41332e",
   "metadata": {},
   "source": [
    "# Python program to create a Matrix"
   ]
  },
  {
   "cell_type": "code",
   "execution_count": 37,
   "id": "dc9ebaa9",
   "metadata": {},
   "outputs": [
    {
     "name": "stdout",
     "output_type": "stream",
     "text": [
      "[[1 2 3]\n",
      " [3 4 5]]\n",
      "[[1.1 2.  3. ]\n",
      " [3.  4.  5. ]]\n"
     ]
    }
   ],
   "source": [
    "import numpy as np\n",
    "\n",
    "A = np.array([[1, 2, 3], [3, 4, 5]])\n",
    "print(A)\n",
    "\n",
    "A = np.array([[1.1, 2, 3], [3, 4, 5]]) \n",
    "print(A)\n",
    "\n",
    "# A = np.array([[1, 2, 3], [3, 4, 5]], dtype = complex) \n",
    "# print(A)\n"
   ]
  },
  {
   "cell_type": "code",
   "execution_count": null,
   "id": "b6f4332d",
   "metadata": {},
   "outputs": [],
   "source": []
  }
 ],
 "metadata": {
  "kernelspec": {
   "display_name": "Python 3",
   "language": "python",
   "name": "python3"
  },
  "language_info": {
   "codemirror_mode": {
    "name": "ipython",
    "version": 3
   },
   "file_extension": ".py",
   "mimetype": "text/x-python",
   "name": "python",
   "nbconvert_exporter": "python",
   "pygments_lexer": "ipython3",
   "version": "3.8.8"
  }
 },
 "nbformat": 4,
 "nbformat_minor": 5
}
